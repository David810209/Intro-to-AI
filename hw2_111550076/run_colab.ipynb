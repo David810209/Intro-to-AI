{
  "cells": [
    {
      "cell_type": "markdown",
      "metadata": {
        "id": "Rp4sSROhupig"
      },
      "source": [
        "This is an example of how to run on Colab. You can edit this file in anyway you want."
      ]
    },
    {
      "cell_type": "code",
      "execution_count": 1,
      "metadata": {
        "id": "eVIlLeHyupij",
        "outputId": "ab59ea32-a9cd-4ac1-91c0-c4656591a3c0",
        "colab": {
          "base_uri": "https://localhost:8080/"
        }
      },
      "outputs": [
        {
          "output_type": "stream",
          "name": "stdout",
          "text": [
            "Mounted at /content/gdrive\n"
          ]
        }
      ],
      "source": [
        "from google.colab import drive\n",
        "from google.colab.patches import cv2_imshow\n",
        "drive.mount('/content/gdrive')"
      ]
    },
    {
      "cell_type": "code",
      "execution_count": 2,
      "metadata": {
        "id": "ar95QtOLupik"
      },
      "outputs": [],
      "source": [
        "#!unzip /content/gdrive/MyDrive/HW2.zip\n",
        "#%cd /content/HW2\n",
        "!cp -r ./gdrive/MyDrive/\"hw2\"/\"for students\"/* ."
      ]
    },
    {
      "cell_type": "code",
      "execution_count": null,
      "metadata": {
        "id": "vbPcdIEBupik"
      },
      "outputs": [],
      "source": [
        "!pip install transformers"
      ]
    },
    {
      "cell_type": "code",
      "source": [
        "!python ngram.py"
      ],
      "metadata": {
        "id": "mT-WNwPqYy4X"
      },
      "execution_count": null,
      "outputs": []
    },
    {
      "cell_type": "code",
      "source": [
        "!python preprocess.py"
      ],
      "metadata": {
        "colab": {
          "base_uri": "https://localhost:8080/"
        },
        "id": "pYjp9PBMcKmR",
        "outputId": "3d2d6521-8b58-49e1-8775-c4845b64f9e5"
      },
      "execution_count": null,
      "outputs": [
        {
          "output_type": "stream",
          "name": "stdout",
          "text": [
            "[nltk_data] Downloading package stopwords to /root/nltk_data...\n",
            "[nltk_data]   Package stopwords is already up-to-date!\n",
            "[nltk_data] Downloading package punkt to /root/nltk_data...\n",
            "[nltk_data]   Package punkt is already up-to-date!\n",
            "important understanding French society Today really enjoy humor movie ...\n",
            "import understand french societi today realli enjoy humor movi\n"
          ]
        }
      ]
    },
    {
      "cell_type": "code",
      "execution_count": null,
      "metadata": {
        "id": "EHKWbeD9upik",
        "colab": {
          "base_uri": "https://localhost:8080/"
        },
        "outputId": "ef85e34f-ef64-4f5a-f42e-2c19946527ff"
      },
      "outputs": [
        {
          "output_type": "stream",
          "name": "stdout",
          "text": [
            "[nltk_data] Downloading package stopwords to /root/nltk_data...\n",
            "[nltk_data]   Package stopwords is already up-to-date!\n",
            "100% 10000/10000 [29:16<00:00,  5.69it/s]\n",
            "100% 10000/10000 [01:50<00:00, 90.43it/s]\n",
            "Epoch: 0, F1 score: 0.9308, Precision: 0.9308, Recall: 0.9308, Loss: 0.2347\n"
          ]
        }
      ],
      "source": [
        "!python main.py --model_type BERT --preprocess 0 --part 2\n"
      ]
    },
    {
      "cell_type": "code",
      "source": [
        "!python main.py --model_type BERT --preprocess 1 --part 2"
      ],
      "metadata": {
        "id": "We4aEiINGS-2",
        "colab": {
          "base_uri": "https://localhost:8080/"
        },
        "outputId": "8e829d0c-fd2e-4800-fbb1-65ab143b1d4f"
      },
      "execution_count": 3,
      "outputs": [
        {
          "output_type": "stream",
          "name": "stdout",
          "text": [
            "[nltk_data] Downloading package stopwords to /root/nltk_data...\n",
            "[nltk_data]   Unzipping corpora/stopwords.zip.\n",
            "[nltk_data] Downloading package punkt to /root/nltk_data...\n",
            "[nltk_data]   Unzipping tokenizers/punkt.zip.\n",
            "tokenizer_config.json: 100% 28.0/28.0 [00:00<00:00, 119kB/s]\n",
            "config.json: 100% 483/483 [00:00<00:00, 2.88MB/s]\n",
            "vocab.txt: 100% 232k/232k [00:00<00:00, 4.27MB/s]\n",
            "tokenizer.json: 100% 466k/466k [00:00<00:00, 2.73MB/s]\n",
            "model.safetensors: 100% 268M/268M [00:01<00:00, 204MB/s]\n",
            "100% 5000/5000 [26:33<00:00,  3.14it/s]\n",
            "100% 10000/10000 [01:26<00:00, 115.08it/s]\n",
            "Epoch: 0, F1 score: 0.9212, Precision: 0.9214, Recall: 0.9212, Loss: 0.2664\n"
          ]
        }
      ]
    },
    {
      "cell_type": "code",
      "source": [
        "!python main.py --model_type ngram --preprocess 0 --part 2\n",
        "# no preprocess"
      ],
      "metadata": {
        "colab": {
          "base_uri": "https://localhost:8080/"
        },
        "id": "gaj629ydUaGi",
        "outputId": "0e3eaf7f-6a7d-45dc-fda2-fa5a3f14eb7a"
      },
      "execution_count": null,
      "outputs": [
        {
          "output_type": "stream",
          "name": "stdout",
          "text": [
            "[nltk_data] Downloading package stopwords to /root/nltk_data...\n",
            "[nltk_data]   Package stopwords is already up-to-date!\n",
            "[nltk_data] Downloading package punkt to /root/nltk_data...\n",
            "[nltk_data]   Package punkt is already up-to-date!\n",
            "Perplexity of ngram: 116.26046015880357\n",
            "F1 score: 0.7051, Precision: 0.7082, Recall: 0.7059\n"
          ]
        }
      ]
    },
    {
      "cell_type": "code",
      "source": [
        "!python main.py --model_type ngram --preprocess 1 --part 2\n",
        "# remove_stopwords()"
      ],
      "metadata": {
        "colab": {
          "base_uri": "https://localhost:8080/"
        },
        "id": "CJXZZ2ReNN76",
        "outputId": "bc2fade1-da1b-45bf-eaca-2175ce3379ca"
      },
      "execution_count": null,
      "outputs": [
        {
          "output_type": "stream",
          "name": "stdout",
          "text": [
            "[nltk_data] Downloading package stopwords to /root/nltk_data...\n",
            "[nltk_data]   Package stopwords is already up-to-date!\n",
            "[nltk_data] Downloading package punkt to /root/nltk_data...\n",
            "[nltk_data]   Package punkt is already up-to-date!\n",
            "Perplexity of ngram: 195.43245350997685\n",
            "F1 score: 0.6745, Precision: 0.6902, Recall: 0.6792\n"
          ]
        }
      ]
    },
    {
      "cell_type": "code",
      "source": [
        "!python main.py --model_type ngram --preprocess 1 --part 2\n",
        "# preprocessing_function"
      ],
      "metadata": {
        "colab": {
          "base_uri": "https://localhost:8080/"
        },
        "id": "iUup7BZbRMVi",
        "outputId": "57d99f6b-5f11-4476-ee0a-a8bdae89c981"
      },
      "execution_count": null,
      "outputs": [
        {
          "output_type": "stream",
          "name": "stdout",
          "text": [
            "[nltk_data] Downloading package stopwords to /root/nltk_data...\n",
            "[nltk_data]   Package stopwords is already up-to-date!\n",
            "[nltk_data] Downloading package punkt to /root/nltk_data...\n",
            "[nltk_data]   Package punkt is already up-to-date!\n",
            "Perplexity of ngram: 195.43245350997685\n"
          ]
        }
      ]
    },
    {
      "cell_type": "code",
      "source": [
        "!python main.py --model_type ngram --preprocess 0 --part 2"
      ],
      "metadata": {
        "id": "txSilZY5aWBp"
      },
      "execution_count": null,
      "outputs": []
    },
    {
      "cell_type": "code",
      "source": [
        "!python main.py --model_type RNN --preprocess 1 --part 2"
      ],
      "metadata": {
        "id": "W7OyqTraOx4b",
        "colab": {
          "base_uri": "https://localhost:8080/"
        },
        "outputId": "2f4ecc98-2f85-4320-bbab-7b9f3e836c20"
      },
      "execution_count": null,
      "outputs": [
        {
          "output_type": "stream",
          "name": "stdout",
          "text": [
            "[nltk_data] Downloading package stopwords to /root/nltk_data...\n",
            "[nltk_data]   Package stopwords is already up-to-date!\n",
            "[nltk_data] Downloading package punkt to /root/nltk_data...\n",
            "[nltk_data]   Package punkt is already up-to-date!\n",
            "100% 5000/5000 [02:13<00:00, 37.50it/s]\n",
            "100% 10000/10000 [00:11<00:00, 869.22it/s]\n",
            "Epoch: 0, F1 score: 0.724, Precision: 0.7256, Recall: 0.7244, Loss: 0.6801\n",
            "100% 5000/5000 [02:12<00:00, 37.65it/s]\n",
            "100% 10000/10000 [00:12<00:00, 819.86it/s]\n",
            "Epoch: 1, F1 score: 0.8175, Precision: 0.8263, Recall: 0.8186, Loss: 0.5147\n",
            "100% 5000/5000 [02:13<00:00, 37.59it/s]\n",
            "100% 10000/10000 [00:12<00:00, 823.95it/s]\n",
            "Epoch: 2, F1 score: 0.8452, Precision: 0.8453, Recall: 0.8452, Loss: 0.4561\n",
            "100% 5000/5000 [02:12<00:00, 37.66it/s]\n",
            "100% 10000/10000 [00:11<00:00, 848.70it/s]\n",
            "Epoch: 3, F1 score: 0.8566, Precision: 0.8573, Recall: 0.8567, Loss: 0.422\n",
            "100% 5000/5000 [02:12<00:00, 37.62it/s]\n",
            "100% 10000/10000 [00:12<00:00, 820.59it/s]\n",
            "Epoch: 4, F1 score: 0.8426, Precision: 0.8488, Recall: 0.8432, Loss: 0.4027\n",
            "100% 5000/5000 [02:12<00:00, 37.60it/s]\n",
            "100% 10000/10000 [00:11<00:00, 872.11it/s]\n",
            "Epoch: 5, F1 score: 0.863, Precision: 0.8639, Recall: 0.8631, Loss: 0.3908\n",
            "100% 5000/5000 [02:12<00:00, 37.66it/s]\n",
            "100% 10000/10000 [00:12<00:00, 831.60it/s]\n",
            "Epoch: 6, F1 score: 0.855, Precision: 0.8559, Recall: 0.8551, Loss: 0.3772\n",
            "100% 5000/5000 [02:12<00:00, 37.61it/s]\n",
            "100% 10000/10000 [00:12<00:00, 825.56it/s]\n",
            "Epoch: 7, F1 score: 0.8573, Precision: 0.8631, Recall: 0.8578, Loss: 0.3701\n",
            "100% 5000/5000 [02:12<00:00, 37.63it/s]\n",
            "100% 10000/10000 [00:11<00:00, 834.52it/s]\n",
            "Epoch: 8, F1 score: 0.8709, Precision: 0.871, Recall: 0.8709, Loss: 0.3612\n",
            "100% 5000/5000 [02:12<00:00, 37.62it/s]\n",
            "100% 10000/10000 [00:12<00:00, 826.97it/s]\n",
            "Epoch: 9, F1 score: 0.8641, Precision: 0.8651, Recall: 0.8642, Loss: 0.357\n"
          ]
        }
      ]
    },
    {
      "cell_type": "code",
      "source": [
        "!cp ./*.py ./gdrive/MyDrive/\"hw2\"/\"for students\"/"
      ],
      "metadata": {
        "id": "BQFrjVczyPSa"
      },
      "execution_count": null,
      "outputs": []
    }
  ],
  "metadata": {
    "language_info": {
      "name": "python"
    },
    "orig_nbformat": 4,
    "colab": {
      "provenance": [],
      "gpuType": "T4"
    },
    "kernelspec": {
      "name": "python3",
      "display_name": "Python 3"
    },
    "accelerator": "GPU"
  },
  "nbformat": 4,
  "nbformat_minor": 0
}